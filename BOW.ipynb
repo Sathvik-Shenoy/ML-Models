{
 "cells": [
  {
   "cell_type": "code",
   "execution_count": 1,
   "id": "4af5f3b2",
   "metadata": {},
   "outputs": [
    {
     "name": "stdout",
     "output_type": "stream",
     "text": [
      "(24783, 7)\n"
     ]
    },
    {
     "name": "stderr",
     "output_type": "stream",
     "text": [
      "[nltk_data] Downloading package stopwords to\n",
      "[nltk_data]     C:\\Users\\Admin\\AppData\\Roaming\\nltk_data...\n",
      "[nltk_data]   Package stopwords is already up-to-date!\n"
     ]
    },
    {
     "data": {
      "text/html": [
       "<div>\n",
       "<style scoped>\n",
       "    .dataframe tbody tr th:only-of-type {\n",
       "        vertical-align: middle;\n",
       "    }\n",
       "\n",
       "    .dataframe tbody tr th {\n",
       "        vertical-align: top;\n",
       "    }\n",
       "\n",
       "    .dataframe thead th {\n",
       "        text-align: right;\n",
       "    }\n",
       "</style>\n",
       "<table border=\"1\" class=\"dataframe\">\n",
       "  <thead>\n",
       "    <tr style=\"text-align: right;\">\n",
       "      <th></th>\n",
       "      <th>Unnamed: 0</th>\n",
       "      <th>count</th>\n",
       "      <th>hate_speech</th>\n",
       "      <th>offensive_language</th>\n",
       "      <th>neither</th>\n",
       "      <th>class</th>\n",
       "      <th>tweet</th>\n",
       "    </tr>\n",
       "  </thead>\n",
       "  <tbody>\n",
       "    <tr>\n",
       "      <th>0</th>\n",
       "      <td>0</td>\n",
       "      <td>3</td>\n",
       "      <td>0</td>\n",
       "      <td>0</td>\n",
       "      <td>3</td>\n",
       "      <td>2</td>\n",
       "      <td>!!! RT @mayasolovely: As a woman you shouldn't...</td>\n",
       "    </tr>\n",
       "    <tr>\n",
       "      <th>1</th>\n",
       "      <td>1</td>\n",
       "      <td>3</td>\n",
       "      <td>0</td>\n",
       "      <td>3</td>\n",
       "      <td>0</td>\n",
       "      <td>1</td>\n",
       "      <td>!!!!! RT @mleew17: boy dats cold...tyga dwn ba...</td>\n",
       "    </tr>\n",
       "    <tr>\n",
       "      <th>2</th>\n",
       "      <td>2</td>\n",
       "      <td>3</td>\n",
       "      <td>0</td>\n",
       "      <td>3</td>\n",
       "      <td>0</td>\n",
       "      <td>1</td>\n",
       "      <td>!!!!!!! RT @UrKindOfBrand Dawg!!!! RT @80sbaby...</td>\n",
       "    </tr>\n",
       "    <tr>\n",
       "      <th>3</th>\n",
       "      <td>3</td>\n",
       "      <td>3</td>\n",
       "      <td>0</td>\n",
       "      <td>2</td>\n",
       "      <td>1</td>\n",
       "      <td>1</td>\n",
       "      <td>!!!!!!!!! RT @C_G_Anderson: @viva_based she lo...</td>\n",
       "    </tr>\n",
       "    <tr>\n",
       "      <th>4</th>\n",
       "      <td>4</td>\n",
       "      <td>6</td>\n",
       "      <td>0</td>\n",
       "      <td>6</td>\n",
       "      <td>0</td>\n",
       "      <td>1</td>\n",
       "      <td>!!!!!!!!!!!!! RT @ShenikaRoberts: The shit you...</td>\n",
       "    </tr>\n",
       "  </tbody>\n",
       "</table>\n",
       "</div>"
      ],
      "text/plain": [
       "   Unnamed: 0  count  hate_speech  offensive_language  neither  class  \\\n",
       "0           0      3            0                   0        3      2   \n",
       "1           1      3            0                   3        0      1   \n",
       "2           2      3            0                   3        0      1   \n",
       "3           3      3            0                   2        1      1   \n",
       "4           4      6            0                   6        0      1   \n",
       "\n",
       "                                               tweet  \n",
       "0  !!! RT @mayasolovely: As a woman you shouldn't...  \n",
       "1  !!!!! RT @mleew17: boy dats cold...tyga dwn ba...  \n",
       "2  !!!!!!! RT @UrKindOfBrand Dawg!!!! RT @80sbaby...  \n",
       "3  !!!!!!!!! RT @C_G_Anderson: @viva_based she lo...  \n",
       "4  !!!!!!!!!!!!! RT @ShenikaRoberts: The shit you...  "
      ]
     },
     "execution_count": 1,
     "metadata": {},
     "output_type": "execute_result"
    }
   ],
   "source": [
    "import pandas as pd\n",
    "import numpy as np\n",
    "from sklearn.feature_extraction. text import CountVectorizer\n",
    "from sklearn.model_selection import train_test_split\n",
    "from sklearn.tree import DecisionTreeClassifier\n",
    "import nltk,spacy\n",
    "import re,string\n",
    "nltk.download('stopwords')\n",
    "from nltk.corpus import stopwords\n",
    "stopword=set(stopwords.words('english'))\n",
    "stemmer = nltk.SnowballStemmer(\"english\")\n",
    "\n",
    "df = pd.read_csv(\"C:\\\\Users\\\\Admin\\\\Downloads\\\\twitter_data.csv\")\n",
    "\n",
    "print(df.shape)\n",
    "\n",
    "df.head(5)"
   ]
  },
  {
   "cell_type": "code",
   "execution_count": 2,
   "id": "c3a46510",
   "metadata": {},
   "outputs": [],
   "source": [
    "nlp = spacy.load(\"en_core_web_sm\")"
   ]
  },
  {
   "cell_type": "code",
   "execution_count": 3,
   "id": "26198c74",
   "metadata": {},
   "outputs": [
    {
     "data": {
      "text/plain": [
       "1    19190\n",
       "2     4163\n",
       "0     1430\n",
       "Name: class, dtype: int64"
      ]
     },
     "execution_count": 3,
     "metadata": {},
     "output_type": "execute_result"
    }
   ],
   "source": [
    "#check the distribution of labels \n",
    "df['class'].value_counts()"
   ]
  },
  {
   "cell_type": "code",
   "execution_count": 4,
   "id": "546a55fd",
   "metadata": {},
   "outputs": [],
   "source": [
    "df[\"labels\"] = df['class'].map({0: \"Hate Speech\", 1: \"Offensive Speech\", 2: \"No Hate and Offensive Speech\"})\n",
    "df = df[[\"tweet\", \"labels\"]]"
   ]
  },
  {
   "cell_type": "code",
   "execution_count": 5,
   "id": "e42d089b",
   "metadata": {},
   "outputs": [],
   "source": [
    " def preprocess(text):\n",
    "        test_list = text.split()\n",
    "        text = \"\"\n",
    "        for word in test_list:\n",
    "            if word.endswith(\"ing\"):\n",
    "                word=word[:-3]\n",
    "            text+=word\n",
    "            text+=\" \"\n",
    "        doc = nlp(text)\n",
    "        filtered_tokens = []\n",
    "        \n",
    "        for token in doc:\n",
    "            if token.is_stop or token.is_punct:\n",
    "                continue\n",
    "            filtered_tokens.append(token.lemma_)\n",
    "            \n",
    "        return \" \".join(filtered_tokens)"
   ]
  },
  {
   "cell_type": "code",
   "execution_count": 6,
   "id": "4accdf6c",
   "metadata": {},
   "outputs": [],
   "source": [
    "df[\"tweet_new\"] = df.tweet.apply(preprocess)"
   ]
  },
  {
   "cell_type": "code",
   "execution_count": 7,
   "id": "79c91bd9",
   "metadata": {},
   "outputs": [
    {
     "data": {
      "text/html": [
       "<div>\n",
       "<style scoped>\n",
       "    .dataframe tbody tr th:only-of-type {\n",
       "        vertical-align: middle;\n",
       "    }\n",
       "\n",
       "    .dataframe tbody tr th {\n",
       "        vertical-align: top;\n",
       "    }\n",
       "\n",
       "    .dataframe thead th {\n",
       "        text-align: right;\n",
       "    }\n",
       "</style>\n",
       "<table border=\"1\" class=\"dataframe\">\n",
       "  <thead>\n",
       "    <tr style=\"text-align: right;\">\n",
       "      <th></th>\n",
       "      <th>tweet</th>\n",
       "      <th>labels</th>\n",
       "      <th>tweet_new</th>\n",
       "    </tr>\n",
       "  </thead>\n",
       "  <tbody>\n",
       "    <tr>\n",
       "      <th>0</th>\n",
       "      <td>!!! RT @mayasolovely: As a woman you shouldn't...</td>\n",
       "      <td>No Hate and Offensive Speech</td>\n",
       "      <td>RT @mayasolovely woman complain clean house am...</td>\n",
       "    </tr>\n",
       "    <tr>\n",
       "      <th>1</th>\n",
       "      <td>!!!!! RT @mleew17: boy dats cold...tyga dwn ba...</td>\n",
       "      <td>Offensive Speech</td>\n",
       "      <td>RT @mleew17 boy dat cold tyga dwn bad cuffin d...</td>\n",
       "    </tr>\n",
       "    <tr>\n",
       "      <th>2</th>\n",
       "      <td>!!!!!!! RT @UrKindOfBrand Dawg!!!! RT @80sbaby...</td>\n",
       "      <td>Offensive Speech</td>\n",
       "      <td>RT @UrKindOfBrand Dawg RT @80sbaby4life fuck b...</td>\n",
       "    </tr>\n",
       "    <tr>\n",
       "      <th>3</th>\n",
       "      <td>!!!!!!!!! RT @C_G_Anderson: @viva_based she lo...</td>\n",
       "      <td>Offensive Speech</td>\n",
       "      <td>RT @C_G_Anderson @viva_base look like tranny</td>\n",
       "    </tr>\n",
       "    <tr>\n",
       "      <th>4</th>\n",
       "      <td>!!!!!!!!!!!!! RT @ShenikaRoberts: The shit you...</td>\n",
       "      <td>Offensive Speech</td>\n",
       "      <td>RT @shenikaroberts shit hear true faker bitch ...</td>\n",
       "    </tr>\n",
       "  </tbody>\n",
       "</table>\n",
       "</div>"
      ],
      "text/plain": [
       "                                               tweet  \\\n",
       "0  !!! RT @mayasolovely: As a woman you shouldn't...   \n",
       "1  !!!!! RT @mleew17: boy dats cold...tyga dwn ba...   \n",
       "2  !!!!!!! RT @UrKindOfBrand Dawg!!!! RT @80sbaby...   \n",
       "3  !!!!!!!!! RT @C_G_Anderson: @viva_based she lo...   \n",
       "4  !!!!!!!!!!!!! RT @ShenikaRoberts: The shit you...   \n",
       "\n",
       "                         labels  \\\n",
       "0  No Hate and Offensive Speech   \n",
       "1              Offensive Speech   \n",
       "2              Offensive Speech   \n",
       "3              Offensive Speech   \n",
       "4              Offensive Speech   \n",
       "\n",
       "                                           tweet_new  \n",
       "0  RT @mayasolovely woman complain clean house am...  \n",
       "1  RT @mleew17 boy dat cold tyga dwn bad cuffin d...  \n",
       "2  RT @UrKindOfBrand Dawg RT @80sbaby4life fuck b...  \n",
       "3       RT @C_G_Anderson @viva_base look like tranny  \n",
       "4  RT @shenikaroberts shit hear true faker bitch ...  "
      ]
     },
     "execution_count": 7,
     "metadata": {},
     "output_type": "execute_result"
    }
   ],
   "source": [
    "df.head()"
   ]
  },
  {
   "cell_type": "code",
   "execution_count": 8,
   "id": "db5b2c72",
   "metadata": {},
   "outputs": [],
   "source": [
    "def clean(text):\n",
    "    text = str (text). lower()\n",
    "    text = re. sub('[.?]', '', text)\n",
    "    text = re. sub('https?://\\S+|www.\\S+', '', text)\n",
    "    text = re. sub('<.?>+', '', text)\n",
    "    text = re. sub('[%s]' % re. escape(string. punctuation), '', text)\n",
    "    text = re. sub('\\n', '', text)\n",
    "    text = re. sub('\\w\\d\\w', '', text)\n",
    "    text = [word for word in text.split(' ') if word not in stopword]\n",
    "    text=\" \". join(text)\n",
    "    text = [stemmer. stem(word) for word in text. split(' ')]\n",
    "    text=\" \". join(text)\n",
    "    return text"
   ]
  },
  {
   "cell_type": "code",
   "execution_count": 9,
   "id": "d372c73e",
   "metadata": {},
   "outputs": [],
   "source": [
    "df[\"tweet_new\"] = df.tweet_new.apply(clean)"
   ]
  },
  {
   "cell_type": "code",
   "execution_count": 10,
   "id": "e9ef728e",
   "metadata": {},
   "outputs": [],
   "source": [
    "#df['vector'] = df['tweet_new'].apply(lambda text: nlp(text).vector)  "
   ]
  },
  {
   "cell_type": "code",
   "execution_count": 11,
   "id": "8ec4a335",
   "metadata": {},
   "outputs": [
    {
     "data": {
      "text/html": [
       "<div>\n",
       "<style scoped>\n",
       "    .dataframe tbody tr th:only-of-type {\n",
       "        vertical-align: middle;\n",
       "    }\n",
       "\n",
       "    .dataframe tbody tr th {\n",
       "        vertical-align: top;\n",
       "    }\n",
       "\n",
       "    .dataframe thead th {\n",
       "        text-align: right;\n",
       "    }\n",
       "</style>\n",
       "<table border=\"1\" class=\"dataframe\">\n",
       "  <thead>\n",
       "    <tr style=\"text-align: right;\">\n",
       "      <th></th>\n",
       "      <th>tweet</th>\n",
       "      <th>labels</th>\n",
       "      <th>tweet_new</th>\n",
       "    </tr>\n",
       "  </thead>\n",
       "  <tbody>\n",
       "    <tr>\n",
       "      <th>0</th>\n",
       "      <td>!!! RT @mayasolovely: As a woman you shouldn't...</td>\n",
       "      <td>No Hate and Offensive Speech</td>\n",
       "      <td>rt mayasolov woman complain clean hous amp man...</td>\n",
       "    </tr>\n",
       "    <tr>\n",
       "      <th>1</th>\n",
       "      <td>!!!!! RT @mleew17: boy dats cold...tyga dwn ba...</td>\n",
       "      <td>Offensive Speech</td>\n",
       "      <td>rt mlee boy dat cold tyga dwn bad cuffin dat h...</td>\n",
       "    </tr>\n",
       "    <tr>\n",
       "      <th>2</th>\n",
       "      <td>!!!!!!! RT @UrKindOfBrand Dawg!!!! RT @80sbaby...</td>\n",
       "      <td>Offensive Speech</td>\n",
       "      <td>rt urkindofbrand dawg rt babif fuck bitch star...</td>\n",
       "    </tr>\n",
       "    <tr>\n",
       "      <th>3</th>\n",
       "      <td>!!!!!!!!! RT @C_G_Anderson: @viva_based she lo...</td>\n",
       "      <td>Offensive Speech</td>\n",
       "      <td>rt cganderson vivabas look like tranni</td>\n",
       "    </tr>\n",
       "    <tr>\n",
       "      <th>4</th>\n",
       "      <td>!!!!!!!!!!!!! RT @ShenikaRoberts: The shit you...</td>\n",
       "      <td>Offensive Speech</td>\n",
       "      <td>rt shenikarobert shit hear true faker bitch te...</td>\n",
       "    </tr>\n",
       "  </tbody>\n",
       "</table>\n",
       "</div>"
      ],
      "text/plain": [
       "                                               tweet  \\\n",
       "0  !!! RT @mayasolovely: As a woman you shouldn't...   \n",
       "1  !!!!! RT @mleew17: boy dats cold...tyga dwn ba...   \n",
       "2  !!!!!!! RT @UrKindOfBrand Dawg!!!! RT @80sbaby...   \n",
       "3  !!!!!!!!! RT @C_G_Anderson: @viva_based she lo...   \n",
       "4  !!!!!!!!!!!!! RT @ShenikaRoberts: The shit you...   \n",
       "\n",
       "                         labels  \\\n",
       "0  No Hate and Offensive Speech   \n",
       "1              Offensive Speech   \n",
       "2              Offensive Speech   \n",
       "3              Offensive Speech   \n",
       "4              Offensive Speech   \n",
       "\n",
       "                                           tweet_new  \n",
       "0  rt mayasolov woman complain clean hous amp man...  \n",
       "1  rt mlee boy dat cold tyga dwn bad cuffin dat h...  \n",
       "2  rt urkindofbrand dawg rt babif fuck bitch star...  \n",
       "3             rt cganderson vivabas look like tranni  \n",
       "4  rt shenikarobert shit hear true faker bitch te...  "
      ]
     },
     "execution_count": 11,
     "metadata": {},
     "output_type": "execute_result"
    }
   ],
   "source": [
    "x = np. array(df[\"tweet_new\"])\n",
    "y = np. array(df[\"labels\"])\n",
    "cv = CountVectorizer()\n",
    "X = cv.fit_transform(x)\n",
    "df.head()"
   ]
  },
  {
   "cell_type": "code",
   "execution_count": 15,
   "id": "9d721c20",
   "metadata": {},
   "outputs": [
    {
     "name": "stdout",
     "output_type": "stream",
     "text": [
      "Accuracy: 0.8827485022618902\n",
      "F1 Score: 0.8819740846211023\n",
      "Precision: 0.8817965948425602\n",
      "Recall: 0.8827485022618902\n",
      "ROC AUC Score: 0.8575117276212841\n",
      "Confusion Matrix:\n",
      "[[ 147   53  265]\n",
      " [  35 1213  131]\n",
      " [ 245  230 5860]]\n"
     ]
    },
    {
     "data": {
      "image/png": "[encoded data removed]",
      "text/plain": [
       "<Figure size 432x288 with 1 Axes>"
      ]
     },
     "metadata": {
      "needs_background": "light"
     },
     "output_type": "display_data"
    },
    {
     "data": {
      "text/plain": [
       "'#Predicting the outcome\\ninp = \"Get the hell out of here\"\\ninp = preprocess(inp)\\nprint(inp)\\ninp = cv.transform([inp]).toarray()\\nprint(model.predict(inp))'"
      ]
     },
     "execution_count": 15,
     "metadata": {},
     "output_type": "execute_result"
    }
   ],
   "source": [
    "X_train, X_test, y_train, y_test = train_test_split(X, y, test_size=0.33, random_state=42)\n",
    "#Model building\n",
    "model = DecisionTreeClassifier()\n",
    "#Training the model\n",
    "model.fit(X_train,y_train)\n",
    "\n",
    "from sklearn.metrics import accuracy_score, f1_score, precision_score, recall_score, roc_auc_score, confusion_matrix, roc_curve, auc\n",
    "import matplotlib.pyplot as plt\n",
    "\n",
    "# Predict labels for the test set\n",
    "y_pred = model.predict(X_test)\n",
    "\n",
    "# Calculate accuracy\n",
    "accuracy = accuracy_score(y_test, y_pred)\n",
    "print(\"Accuracy:\", accuracy)\n",
    "\n",
    "# Calculate F1 score\n",
    "f1 = f1_score(y_test, y_pred, average='weighted')\n",
    "print(\"F1 Score:\", f1)\n",
    "\n",
    "# Calculate precision\n",
    "precision = precision_score(y_test, y_pred, average='weighted')\n",
    "print(\"Precision:\", precision)\n",
    "\n",
    "# Calculate recall\n",
    "recall = recall_score(y_test, y_pred, average='weighted')\n",
    "print(\"Recall:\", recall)\n",
    "\n",
    "# Calculate ROC AUC score\n",
    "y_prob = model.predict_proba(X_test)\n",
    "roc_auc = roc_auc_score(y_test, y_prob, average='weighted', multi_class='ovr')\n",
    "print(\"ROC AUC Score:\", roc_auc)\n",
    "\n",
    "# Calculate confusion matrix\n",
    "conf_matrix = confusion_matrix(y_test, y_pred)\n",
    "print(\"Confusion Matrix:\")\n",
    "print(conf_matrix)\n",
    "\n",
    "from sklearn.preprocessing import label_binarize\n",
    "\n",
    "# Binarize the labels\n",
    "y_test_binarized = label_binarize(y_test, classes=np.unique(y_test))\n",
    "\n",
    "# Calculate ROC curve for each class\n",
    "fpr = {}\n",
    "tpr = {}\n",
    "roc_auc = {}\n",
    "n_classes = len(np.unique(y_test))\n",
    "for i in range(n_classes):\n",
    "    fpr[i], tpr[i], _ = roc_curve(y_test_binarized[:, i], y_prob[:, i])\n",
    "    roc_auc[i] = auc(fpr[i], tpr[i])\n",
    "\n",
    "# Plot ROC curve for each class\n",
    "plt.figure()\n",
    "for i in range(n_classes):\n",
    "    plt.plot(fpr[i], tpr[i], lw=2, label=f'ROC curve (class {i}) (area = {roc_auc[i]:0.2f})')\n",
    "\n",
    "plt.plot([0, 1], [0, 1], color='navy', lw=2, linestyle='--')\n",
    "plt.xlim([0.0, 1.0])\n",
    "plt.ylim([0.0, 1.05])\n",
    "plt.xlabel('False Positive Rate')\n",
    "plt.ylabel('True Positive Rate')\n",
    "plt.title('ROC Curve')\n",
    "plt.legend(loc=\"lower right\")\n",
    "plt.show()\n",
    "\n",
    "'''#Predicting the outcome\n",
    "inp = \"Get the hell out of here\"\n",
    "inp = preprocess(inp)\n",
    "print(inp)\n",
    "inp = cv.transform([inp]).toarray()\n",
    "print(model.predict(inp))'''"
   ]
  },
  {
   "cell_type": "code",
   "execution_count": 16,
   "id": "e6151fbf",
   "metadata": {},
   "outputs": [
    {
     "name": "stdout",
     "output_type": "stream",
     "text": [
      "Accuracy: 0.8684435750091698\n",
      "F1 Score: 0.8454375991459016\n",
      "Precision: 0.8445355447490172\n",
      "Recall: 0.8684435750091698\n",
      "ROC AUC Score: 0.8993404773998649\n",
      "Confusion Matrix:\n",
      "[[  32   48  385]\n",
      " [  16  881  482]\n",
      " [  33  112 6190]]\n"
     ]
    },
    {
     "data": {
      "image/png": "[encoded data removed]",
      "text/plain": [
       "<Figure size 432x288 with 1 Axes>"
      ]
     },
     "metadata": {
      "needs_background": "light"
     },
     "output_type": "display_data"
    },
    {
     "data": {
      "text/plain": [
       "'#Predicting the outcome\\ninp = \"Oh shit! I couldn\\'t do that\"\\ninp = preprocess(inp)\\nprint(inp)\\ninp = cv.transform([inp]).toarray()\\nprint(model.predict(inp))'"
      ]
     },
     "execution_count": 16,
     "metadata": {},
     "output_type": "execute_result"
    }
   ],
   "source": [
    "from sklearn.naive_bayes import MultinomialNB\n",
    "\n",
    "X_train, X_test, y_train, y_test = train_test_split(X, y, test_size=0.33, random_state=42)\n",
    "#Model building\n",
    "model = MultinomialNB()\n",
    "#Training the model\n",
    "model.fit(X_train,y_train)\n",
    "from sklearn.metrics import accuracy_score, f1_score, precision_score, recall_score, roc_auc_score, confusion_matrix, roc_curve, auc\n",
    "\n",
    "# Predict labels for the test set\n",
    "y_pred = model.predict(X_test)\n",
    "\n",
    "# Calculate accuracy\n",
    "accuracy = accuracy_score(y_test, y_pred)\n",
    "print(\"Accuracy:\", accuracy)\n",
    "\n",
    "# Calculate F1 score\n",
    "f1 = f1_score(y_test, y_pred, average='weighted')\n",
    "print(\"F1 Score:\", f1)\n",
    "\n",
    "# Calculate precision\n",
    "precision = precision_score(y_test, y_pred, average='weighted')\n",
    "print(\"Precision:\", precision)\n",
    "\n",
    "# Calculate recall\n",
    "recall = recall_score(y_test, y_pred, average='weighted')\n",
    "print(\"Recall:\", recall)\n",
    "\n",
    "# Calculate ROC AUC score\n",
    "y_prob = model.predict_proba(X_test)\n",
    "roc_auc = roc_auc_score(y_test, y_prob, average='weighted', multi_class='ovr')\n",
    "print(\"ROC AUC Score:\", roc_auc)\n",
    "\n",
    "# Calculate confusion matrix\n",
    "conf_matrix = confusion_matrix(y_test, y_pred)\n",
    "print(\"Confusion Matrix:\")\n",
    "print(conf_matrix)\n",
    "\n",
    "from sklearn.preprocessing import label_binarize\n",
    "\n",
    "# Binarize the labels\n",
    "y_test_binarized = label_binarize(y_test, classes=np.unique(y_test))\n",
    "\n",
    "# Calculate ROC curve for each class\n",
    "fpr = {}\n",
    "tpr = {}\n",
    "roc_auc = {}\n",
    "n_classes = len(np.unique(y_test))\n",
    "for i in range(n_classes):\n",
    "    fpr[i], tpr[i], _ = roc_curve(y_test_binarized[:, i], y_prob[:, i])\n",
    "    roc_auc[i] = auc(fpr[i], tpr[i])\n",
    "\n",
    "# Plot ROC curve for each class\n",
    "plt.figure()\n",
    "for i in range(n_classes):\n",
    "    plt.plot(fpr[i], tpr[i], lw=2, label=f'ROC curve (class {i}) (area = {roc_auc[i]:0.2f})')\n",
    "\n",
    "plt.plot([0, 1], [0, 1], color='navy', lw=2, linestyle='--')\n",
    "plt.xlim([0.0, 1.0])\n",
    "plt.ylim([0.0, 1.05])\n",
    "plt.xlabel('False Positive Rate')\n",
    "plt.ylabel('True Positive Rate')\n",
    "plt.title('ROC Curve')\n",
    "plt.legend(loc=\"lower right\")\n",
    "plt.show()\n",
    "\n",
    "'''#Predicting the outcome\n",
    "inp = \"Oh shit! I couldn't do that\"\n",
    "inp = preprocess(inp)\n",
    "print(inp)\n",
    "inp = cv.transform([inp]).toarray()\n",
    "print(model.predict(inp))'''"
   ]
  },
  {
   "cell_type": "code",
   "execution_count": 17,
   "id": "1f9f8dd3",
   "metadata": {},
   "outputs": [
    {
     "name": "stderr",
     "output_type": "stream",
     "text": [
      "C:\\Users\\Admin\\anaconda3\\lib\\site-packages\\sklearn\\linear_model\\_logistic.py:763: ConvergenceWarning: lbfgs failed to converge (status=1):\n",
      "STOP: TOTAL NO. of ITERATIONS REACHED LIMIT.\n",
      "\n",
      "Increase the number of iterations (max_iter) or scale the data as shown in:\n",
      "    https://scikit-learn.org/stable/modules/preprocessing.html\n",
      "Please also refer to the documentation for alternative solver options:\n",
      "    https://scikit-learn.org/stable/modules/linear_model.html#logistic-regression\n",
      "  n_iter_i = _check_optimize_result(\n"
     ]
    },
    {
     "name": "stdout",
     "output_type": "stream",
     "text": [
      "Accuracy: 0.8985206015405306\n",
      "F1 Score: 0.8886541040448297\n",
      "Precision: 0.8848369353169331\n",
      "Recall: 0.8985206015405306\n",
      "ROC AUC Score: 0.9423897757789647\n",
      "Confusion Matrix:\n",
      "[[  96   49  320]\n",
      " [  10 1216  153]\n",
      " [ 102  196 6037]]\n"
     ]
    },
    {
     "data": {
      "image/png": "[encoded data removed]",
      "text/plain": [
       "<Figure size 432x288 with 1 Axes>"
      ]
     },
     "metadata": {
      "needs_background": "light"
     },
     "output_type": "display_data"
    },
    {
     "data": {
      "text/plain": [
       "'#Predicting the outcome\\ninp = \"Get the hell out of here\"\\ninp = preprocess(inp)\\nprint(inp)\\ninp = cv.transform([inp]).toarray()\\nprint(model1.predict(inp))'"
      ]
     },
     "execution_count": 17,
     "metadata": {},
     "output_type": "execute_result"
    }
   ],
   "source": [
    "from sklearn.linear_model import LogisticRegression\n",
    "\n",
    "model1 = LogisticRegression()\n",
    "model1.fit(X_train,y_train)\n",
    "y_pred = model1.predict(X_test)\n",
    "\n",
    "from sklearn.metrics import accuracy_score, f1_score, precision_score, recall_score, roc_auc_score, confusion_matrix, roc_curve, auc\n",
    "\n",
    "# Calculate accuracy\n",
    "accuracy = accuracy_score(y_test, y_pred)\n",
    "print(\"Accuracy:\", accuracy)\n",
    "\n",
    "# Calculate F1 score\n",
    "f1 = f1_score(y_test, y_pred, average='weighted')\n",
    "print(\"F1 Score:\", f1)\n",
    "\n",
    "# Calculate precision\n",
    "precision = precision_score(y_test, y_pred, average='weighted')\n",
    "print(\"Precision:\", precision)\n",
    "\n",
    "# Calculate recall\n",
    "recall = recall_score(y_test, y_pred, average='weighted')\n",
    "print(\"Recall:\", recall)\n",
    "\n",
    "# Calculate ROC AUC score\n",
    "y_prob = model1.predict_proba(X_test)\n",
    "roc_auc = roc_auc_score(y_test, y_prob, average='weighted', multi_class='ovr')\n",
    "print(\"ROC AUC Score:\", roc_auc)\n",
    "\n",
    "# Calculate confusion matrix\n",
    "conf_matrix = confusion_matrix(y_test, y_pred)\n",
    "print(\"Confusion Matrix:\")\n",
    "print(conf_matrix)\n",
    "\n",
    "from sklearn.preprocessing import label_binarize\n",
    "\n",
    "# Binarize the labels\n",
    "y_test_binarized = label_binarize(y_test, classes=np.unique(y_test))\n",
    "\n",
    "# Calculate ROC curve for each class\n",
    "fpr = {}\n",
    "tpr = {}\n",
    "roc_auc = {}\n",
    "n_classes = len(np.unique(y_test))\n",
    "for i in range(n_classes):\n",
    "    fpr[i], tpr[i], _ = roc_curve(y_test_binarized[:, i], y_prob[:, i])\n",
    "    roc_auc[i] = auc(fpr[i], tpr[i])\n",
    "\n",
    "# Plot ROC curve for each class\n",
    "plt.figure()\n",
    "for i in range(n_classes):\n",
    "    plt.plot(fpr[i], tpr[i], lw=2, label=f'ROC curve (class {i}) (area = {roc_auc[i]:0.2f})')\n",
    "\n",
    "plt.plot([0, 1], [0, 1], color='navy', lw=2, linestyle='--')\n",
    "plt.xlim([0.0, 1.0])\n",
    "plt.ylim([0.0, 1.05])\n",
    "plt.xlabel('False Positive Rate')\n",
    "plt.ylabel('True Positive Rate')\n",
    "plt.title('ROC Curve')\n",
    "plt.legend(loc=\"lower right\")\n",
    "plt.show()\n",
    "\n",
    "'''#Predicting the outcome\n",
    "inp = \"Get the hell out of here\"\n",
    "inp = preprocess(inp)\n",
    "print(inp)\n",
    "inp = cv.transform([inp]).toarray()\n",
    "print(model1.predict(inp))'''"
   ]
  },
  {
   "cell_type": "code",
   "execution_count": 18,
   "id": "e604efa2",
   "metadata": {},
   "outputs": [
    {
     "name": "stdout",
     "output_type": "stream",
     "text": [
      "Accuracy: 0.8919183274238904\n",
      "F1 Score: 0.8857421035285802\n",
      "Precision: 0.8821214036793886\n",
      "Recall: 0.8919183274238904\n",
      "ROC AUC Score: 0.9401010155529836\n",
      "Confusion Matrix:\n",
      "[[ 137   35  293]\n",
      " [  13 1135  231]\n",
      " [ 147  165 6023]]\n"
     ]
    },
    {
     "data": {
      "image/png": "[encoded data removed]",
      "text/plain": [
       "<Figure size 432x288 with 1 Axes>"
      ]
     },
     "metadata": {
      "needs_background": "light"
     },
     "output_type": "display_data"
    },
    {
     "data": {
      "text/plain": [
       "'#Predicting the outcome\\ninp = \"hi folks\"\\ninp = preprocess(inp)\\nprint(inp)\\ninp = cv.transform([inp]).toarray()\\nprint(model.predict(inp))'"
      ]
     },
     "execution_count": 18,
     "metadata": {},
     "output_type": "execute_result"
    }
   ],
   "source": [
    "from sklearn.ensemble import RandomForestClassifier\n",
    "\n",
    "X_train, X_test, y_train, y_test = train_test_split(X, y, test_size=0.33, random_state=42)\n",
    "#Model building\n",
    "model = RandomForestClassifier()\n",
    "#Training the model\n",
    "model.fit(X_train,y_train)\n",
    "from sklearn.metrics import accuracy_score, f1_score, precision_score, recall_score, roc_auc_score, confusion_matrix, roc_curve, auc\n",
    "\n",
    "# Predict labels for the test set\n",
    "y_pred = model.predict(X_test)\n",
    "\n",
    "# Calculate accuracy\n",
    "accuracy = accuracy_score(y_test, y_pred)\n",
    "print(\"Accuracy:\", accuracy)\n",
    "\n",
    "# Calculate F1 score\n",
    "f1 = f1_score(y_test, y_pred, average='weighted')\n",
    "print(\"F1 Score:\", f1)\n",
    "\n",
    "# Calculate precision\n",
    "precision = precision_score(y_test, y_pred, average='weighted')\n",
    "print(\"Precision:\", precision)\n",
    "\n",
    "# Calculate recall\n",
    "recall = recall_score(y_test, y_pred, average='weighted')\n",
    "print(\"Recall:\", recall)\n",
    "\n",
    "# Calculate ROC AUC score\n",
    "y_prob = model.predict_proba(X_test)\n",
    "roc_auc = roc_auc_score(y_test, y_prob, average='weighted', multi_class='ovr')\n",
    "print(\"ROC AUC Score:\", roc_auc)\n",
    "\n",
    "# Calculate confusion matrix\n",
    "conf_matrix = confusion_matrix(y_test, y_pred)\n",
    "print(\"Confusion Matrix:\")\n",
    "print(conf_matrix)\n",
    "\n",
    "from sklearn.preprocessing import label_binarize\n",
    "\n",
    "# Binarize the labels\n",
    "y_test_binarized = label_binarize(y_test, classes=np.unique(y_test))\n",
    "\n",
    "# Calculate ROC curve for each class\n",
    "fpr = {}\n",
    "tpr = {}\n",
    "roc_auc = {}\n",
    "n_classes = len(np.unique(y_test))\n",
    "for i in range(n_classes):\n",
    "    fpr[i], tpr[i], _ = roc_curve(y_test_binarized[:, i], y_prob[:, i])\n",
    "    roc_auc[i] = auc(fpr[i], tpr[i])\n",
    "\n",
    "# Plot ROC curve for each class\n",
    "plt.figure()\n",
    "for i in range(n_classes):\n",
    "    plt.plot(fpr[i], tpr[i], lw=2, label=f'ROC curve (class {i}) (area = {roc_auc[i]:0.2f})')\n",
    "\n",
    "plt.plot([0, 1], [0, 1], color='navy', lw=2, linestyle='--')\n",
    "plt.xlim([0.0, 1.0])\n",
    "plt.ylim([0.0, 1.05])\n",
    "plt.xlabel('False Positive Rate')\n",
    "plt.ylabel('True Positive Rate')\n",
    "plt.title('ROC Curve')\n",
    "plt.legend(loc=\"lower right\")\n",
    "plt.show()\n",
    "\n",
    "'''#Predicting the outcome\n",
    "inp = \"hi folks\"\n",
    "inp = preprocess(inp)\n",
    "print(inp)\n",
    "inp = cv.transform([inp]).toarray()\n",
    "print(model.predict(inp))'''"
   ]
  },
  {
   "cell_type": "code",
   "execution_count": 19,
   "id": "a28675d3",
   "metadata": {},
   "outputs": [
    {
     "name": "stdout",
     "output_type": "stream",
     "text": [
      "Accuracy: 0.9024330602763174\n",
      "F1 Score: 0.8830340278291174\n",
      "Precision: 0.8872616612889924\n",
      "Recall: 0.9024330602763174\n",
      "ROC AUC Score: 0.9434590407446192\n",
      "Confusion Matrix:\n",
      "[[  33   64  368]\n",
      " [   3 1268  108]\n",
      " [  22  233 6080]]\n"
     ]
    },
    {
     "data": {
      "image/png": "[encoded data removed]",
      "text/plain": [
       "<Figure size 432x288 with 1 Axes>"
      ]
     },
     "metadata": {
      "needs_background": "light"
     },
     "output_type": "display_data"
    },
    {
     "data": {
      "text/plain": [
       "'#Predicting the outcome\\ninp = \"What the hell!\"\\ninp = preprocess(inp)\\nprint(inp)\\ninp = cv.transform([inp]).toarray()\\nprint(model.predict(inp))'"
      ]
     },
     "execution_count": 19,
     "metadata": {},
     "output_type": "execute_result"
    }
   ],
   "source": [
    "from sklearn.svm import SVC\n",
    "\n",
    "X_train, X_test, y_train, y_test = train_test_split(X, y, test_size=0.33, random_state=42)\n",
    "#Model building\n",
    "model = SVC(probability=True)\n",
    "#Training the model\n",
    "model.fit(X_train,y_train)\n",
    "from sklearn.metrics import accuracy_score, f1_score, precision_score, recall_score, roc_auc_score, confusion_matrix, roc_curve, auc\n",
    "\n",
    "# Predict labels for the test set\n",
    "y_pred = model.predict(X_test)\n",
    "\n",
    "# Calculate accuracy\n",
    "accuracy = accuracy_score(y_test, y_pred)\n",
    "print(\"Accuracy:\", accuracy)\n",
    "\n",
    "# Calculate F1 score\n",
    "f1 = f1_score(y_test, y_pred, average='weighted')\n",
    "print(\"F1 Score:\", f1)\n",
    "\n",
    "# Calculate precision\n",
    "precision = precision_score(y_test, y_pred, average='weighted')\n",
    "print(\"Precision:\", precision)\n",
    "\n",
    "# Calculate recall\n",
    "recall = recall_score(y_test, y_pred, average='weighted')\n",
    "print(\"Recall:\", recall)\n",
    "\n",
    "# Calculate ROC AUC score\n",
    "y_prob = model.predict_proba(X_test)\n",
    "roc_auc = roc_auc_score(y_test, y_prob, average='weighted', multi_class='ovr')\n",
    "print(\"ROC AUC Score:\", roc_auc)\n",
    "\n",
    "# Calculate confusion matrix\n",
    "conf_matrix = confusion_matrix(y_test, y_pred)\n",
    "print(\"Confusion Matrix:\")\n",
    "print(conf_matrix)\n",
    "\n",
    "from sklearn.preprocessing import label_binarize\n",
    "\n",
    "# Binarize the labels\n",
    "y_test_binarized = label_binarize(y_test, classes=np.unique(y_test))\n",
    "\n",
    "# Calculate ROC curve for each class\n",
    "fpr = {}\n",
    "tpr = {}\n",
    "roc_auc = {}\n",
    "n_classes = len(np.unique(y_test))\n",
    "for i in range(n_classes):\n",
    "    fpr[i], tpr[i], _ = roc_curve(y_test_binarized[:, i], y_prob[:, i])\n",
    "    roc_auc[i] = auc(fpr[i], tpr[i])\n",
    "\n",
    "# Plot ROC curve for each class\n",
    "plt.figure()\n",
    "for i in range(n_classes):\n",
    "    plt.plot(fpr[i], tpr[i], lw=2, label=f'ROC curve (class {i}) (area = {roc_auc[i]:0.2f})')\n",
    "\n",
    "plt.plot([0, 1], [0, 1], color='navy', lw=2, linestyle='--')\n",
    "plt.xlim([0.0, 1.0])\n",
    "plt.ylim([0.0, 1.05])\n",
    "plt.xlabel('False Positive Rate')\n",
    "plt.ylabel('True Positive Rate')\n",
    "plt.title('ROC Curve')\n",
    "plt.legend(loc=\"lower right\")\n",
    "plt.show()\n",
    "\n",
    "'''#Predicting the outcome\n",
    "inp = \"What the hell!\"\n",
    "inp = preprocess(inp)\n",
    "print(inp)\n",
    "inp = cv.transform([inp]).toarray()\n",
    "print(model.predict(inp))'''"
   ]
  },
  {
   "cell_type": "code",
   "execution_count": 20,
   "id": "008abd0f",
   "metadata": {},
   "outputs": [
    {
     "name": "stdout",
     "output_type": "stream",
     "text": [
      "Accuracy: 0.8985206015405306\n",
      "F1 Score: 0.8935844154704166\n",
      "Precision: 0.8906536498474461\n",
      "Recall: 0.8985206015405306\n",
      "ROC AUC Score: 0.9452598202172652\n",
      "Confusion Matrix:\n",
      "[[ 138   52  275]\n",
      " [  18 1232  129]\n",
      " [ 157  199 5979]]\n"
     ]
    },
    {
     "data": {
      "image/png": "[encoded data removed]",
      "text/plain": [
       "<Figure size 432x288 with 1 Axes>"
      ]
     },
     "metadata": {
      "needs_background": "light"
     },
     "output_type": "display_data"
    }
   ],
   "source": [
    "from sklearn.ensemble import VotingClassifier\n",
    "\n",
    "# Initialize individual ensemble_models\n",
    "dt_ensemble_model = DecisionTreeClassifier()\n",
    "rf_ensemble_model = RandomForestClassifier()\n",
    "svm_ensemble_model = SVC(kernel='linear', probability=True)  \n",
    "\n",
    "# Define the ensemble of ensemble_models\n",
    "ensemble_model = VotingClassifier(estimators=[\n",
    "    ('decision_tree', dt_ensemble_model),\n",
    "    ('random_forest', rf_ensemble_model),\n",
    "    ('svm', svm_ensemble_model)\n",
    "], voting='soft') \n",
    "\n",
    "# Training the ensemble ensemble_model\n",
    "ensemble_model.fit(X_train, y_train)\n",
    "\n",
    "from sklearn.metrics import accuracy_score, f1_score, precision_score, recall_score, roc_auc_score, confusion_matrix, roc_curve, auc\n",
    "\n",
    "# Predict labels for the test set\n",
    "y_pred = ensemble_model.predict(X_test)\n",
    "\n",
    "# Calculate accuracy\n",
    "accuracy = accuracy_score(y_test, y_pred)\n",
    "print(\"Accuracy:\", accuracy)\n",
    "\n",
    "# Calculate F1 score\n",
    "f1 = f1_score(y_test, y_pred, average='weighted')\n",
    "print(\"F1 Score:\", f1)\n",
    "\n",
    "# Calculate precision\n",
    "precision = precision_score(y_test, y_pred, average='weighted')\n",
    "print(\"Precision:\", precision)\n",
    "\n",
    "# Calculate recall\n",
    "recall = recall_score(y_test, y_pred, average='weighted')\n",
    "print(\"Recall:\", recall)\n",
    "\n",
    "# Calculate ROC AUC score\n",
    "y_prob = ensemble_model.predict_proba(X_test)\n",
    "roc_auc = roc_auc_score(y_test, y_prob, average='weighted', multi_class='ovr')\n",
    "print(\"ROC AUC Score:\", roc_auc)\n",
    "\n",
    "# Calculate confusion matrix\n",
    "conf_matrix = confusion_matrix(y_test, y_pred)\n",
    "print(\"Confusion Matrix:\")\n",
    "print(conf_matrix)\n",
    "\n",
    "from sklearn.preprocessing import label_binarize\n",
    "\n",
    "# Binarize the labels\n",
    "y_test_binarized = label_binarize(y_test, classes=np.unique(y_test))\n",
    "\n",
    "# Calculate ROC curve for each class\n",
    "fpr = {}\n",
    "tpr = {}\n",
    "roc_auc = {}\n",
    "n_classes = len(np.unique(y_test))\n",
    "for i in range(n_classes):\n",
    "    fpr[i], tpr[i], _ = roc_curve(y_test_binarized[:, i], y_prob[:, i])\n",
    "    roc_auc[i] = auc(fpr[i], tpr[i])\n",
    "\n",
    "# Plot ROC curve for each class\n",
    "plt.figure()\n",
    "for i in range(n_classes):\n",
    "    plt.plot(fpr[i], tpr[i], lw=2, label=f'ROC curve (class {i}) (area = {roc_auc[i]:0.2f})')\n",
    "\n",
    "plt.plot([0, 1], [0, 1], color='navy', lw=2, linestyle='--')\n",
    "plt.xlim([0.0, 1.0])\n",
    "plt.ylim([0.0, 1.05])\n",
    "plt.xlabel('False Positive Rate')\n",
    "plt.ylabel('True Positive Rate')\n",
    "plt.title('ROC Curve')\n",
    "plt.legend(loc=\"lower right\")\n",
    "plt.show()"
   ]
  },
  {
   "cell_type": "code",
   "execution_count": 21,
   "id": "c7a6dc7f",
   "metadata": {},
   "outputs": [
    {
     "name": "stdout",
     "output_type": "stream",
     "text": [
      "Enter the text you want to classify: hello\n",
      "Predicted label: ['No Hate and Offensive Speech']\n"
     ]
    }
   ],
   "source": [
    "# Get input from the user\n",
    "user_input = input(\"Enter the text you want to classify: \")\n",
    "\n",
    "# Preprocess the user input\n",
    "user_input_processed = preprocess(user_input)\n",
    "\n",
    "# Transform the preprocessed input using the TF-IDF vectorizer\n",
    "user_input_vectorized = cv.transform([user_input_processed]).toarray()\n",
    "\n",
    "# Make prediction using the ensemble model\n",
    "prediction = ensemble_model.predict(user_input_vectorized)\n",
    "\n",
    "# Print the predicted label\n",
    "print(\"Predicted label:\", prediction)"
   ]
  },
  {
   "cell_type": "code",
   "execution_count": 15,
   "id": "b412c21a",
   "metadata": {},
   "outputs": [],
   "source": []
  },
  {
   "cell_type": "code",
   "execution_count": null,
   "id": "b22718f7",
   "metadata": {},
   "outputs": [],
   "source": []
  },
  {
   "cell_type": "code",
   "execution_count": null,
   "id": "52d6d615",
   "metadata": {},
   "outputs": [],
   "source": []
  },
  {
   "cell_type": "code",
   "execution_count": null,
   "id": "1087d7ed",
   "metadata": {},
   "outputs": [],
   "source": []
  },
  {
   "cell_type": "code",
   "execution_count": null,
   "id": "cda44eda",
   "metadata": {},
   "outputs": [],
   "source": []
  },
  {
   "cell_type": "code",
   "execution_count": null,
   "id": "85a66c77",
   "metadata": {},
   "outputs": [],
   "source": []
  },
  {
   "cell_type": "code",
   "execution_count": null,
   "id": "66ed14d5",
   "metadata": {},
   "outputs": [],
   "source": []
  },
  {
   "cell_type": "code",
   "execution_count": null,
   "id": "1d4f6029",
   "metadata": {},
   "outputs": [],
   "source": []
  },
  {
   "cell_type": "code",
   "execution_count": null,
   "id": "3dfb2470",
   "metadata": {},
   "outputs": [],
   "source": []
  },
  {
   "cell_type": "code",
   "execution_count": null,
   "id": "af46867b",
   "metadata": {},
   "outputs": [],
   "source": []
  },
  {
   "cell_type": "code",
   "execution_count": null,
   "id": "4599d07e",
   "metadata": {},
   "outputs": [],
   "source": []
  },
  {
   "cell_type": "code",
   "execution_count": null,
   "id": "263ac409",
   "metadata": {},
   "outputs": [],
   "source": []
  }
 ],
 "metadata": {
  "kernelspec": {
   "display_name": "Python 3 (ipykernel)",
   "language": "python",
   "name": "python3"
  },
  "language_info": {
   "codemirror_mode": {
    "name": "ipython",
    "version": 3
   },
   "file_extension": ".py",
   "mimetype": "text/x-python",
   "name": "python",
   "nbconvert_exporter": "python",
   "pygments_lexer": "ipython3",
   "version": "3.9.7"
  }
 },
 "nbformat": 4,
 "nbformat_minor": 5
}
