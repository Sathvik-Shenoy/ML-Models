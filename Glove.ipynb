{
 "cells": [
  {
   "cell_type": "code",
   "execution_count": 18,
   "id": "dd1e0fa4",
   "metadata": {},
   "outputs": [
    {
     "name": "stderr",
     "output_type": "stream",
     "text": [
      "[nltk_data] Downloading package stopwords to\n",
      "[nltk_data]     C:\\Users\\Admin\\AppData\\Roaming\\nltk_data...\n",
      "[nltk_data]   Package stopwords is already up-to-date!\n"
     ]
    },
    {
     "name": "stdout",
     "output_type": "stream",
     "text": [
      "(24783, 7)\n"
     ]
    },
    {
     "data": {
      "text/html": [
       "<div>\n",
       "<style scoped>\n",
       "    .dataframe tbody tr th:only-of-type {\n",
       "        vertical-align: middle;\n",
       "    }\n",
       "\n",
       "    .dataframe tbody tr th {\n",
       "        vertical-align: top;\n",
       "    }\n",
       "\n",
       "    .dataframe thead th {\n",
       "        text-align: right;\n",
       "    }\n",
       "</style>\n",
       "<table border=\"1\" class=\"dataframe\">\n",
       "  <thead>\n",
       "    <tr style=\"text-align: right;\">\n",
       "      <th></th>\n",
       "      <th>Unnamed: 0</th>\n",
       "      <th>count</th>\n",
       "      <th>hate_speech</th>\n",
       "      <th>offensive_language</th>\n",
       "      <th>neither</th>\n",
       "      <th>class</th>\n",
       "      <th>tweet</th>\n",
       "    </tr>\n",
       "  </thead>\n",
       "  <tbody>\n",
       "    <tr>\n",
       "      <th>0</th>\n",
       "      <td>0</td>\n",
       "      <td>3</td>\n",
       "      <td>0</td>\n",
       "      <td>0</td>\n",
       "      <td>3</td>\n",
       "      <td>2</td>\n",
       "      <td>!!! RT @mayasolovely: As a woman you shouldn't...</td>\n",
       "    </tr>\n",
       "    <tr>\n",
       "      <th>1</th>\n",
       "      <td>1</td>\n",
       "      <td>3</td>\n",
       "      <td>0</td>\n",
       "      <td>3</td>\n",
       "      <td>0</td>\n",
       "      <td>1</td>\n",
       "      <td>!!!!! RT @mleew17: boy dats cold...tyga dwn ba...</td>\n",
       "    </tr>\n",
       "    <tr>\n",
       "      <th>2</th>\n",
       "      <td>2</td>\n",
       "      <td>3</td>\n",
       "      <td>0</td>\n",
       "      <td>3</td>\n",
       "      <td>0</td>\n",
       "      <td>1</td>\n",
       "      <td>!!!!!!! RT @UrKindOfBrand Dawg!!!! RT @80sbaby...</td>\n",
       "    </tr>\n",
       "    <tr>\n",
       "      <th>3</th>\n",
       "      <td>3</td>\n",
       "      <td>3</td>\n",
       "      <td>0</td>\n",
       "      <td>2</td>\n",
       "      <td>1</td>\n",
       "      <td>1</td>\n",
       "      <td>!!!!!!!!! RT @C_G_Anderson: @viva_based she lo...</td>\n",
       "    </tr>\n",
       "    <tr>\n",
       "      <th>4</th>\n",
       "      <td>4</td>\n",
       "      <td>6</td>\n",
       "      <td>0</td>\n",
       "      <td>6</td>\n",
       "      <td>0</td>\n",
       "      <td>1</td>\n",
       "      <td>!!!!!!!!!!!!! RT @ShenikaRoberts: The shit you...</td>\n",
       "    </tr>\n",
       "  </tbody>\n",
       "</table>\n",
       "</div>"
      ],
      "text/plain": [
       "   Unnamed: 0  count  hate_speech  offensive_language  neither  class  \\\n",
       "0           0      3            0                   0        3      2   \n",
       "1           1      3            0                   3        0      1   \n",
       "2           2      3            0                   3        0      1   \n",
       "3           3      3            0                   2        1      1   \n",
       "4           4      6            0                   6        0      1   \n",
       "\n",
       "                                               tweet  \n",
       "0  !!! RT @mayasolovely: As a woman you shouldn't...  \n",
       "1  !!!!! RT @mleew17: boy dats cold...tyga dwn ba...  \n",
       "2  !!!!!!! RT @UrKindOfBrand Dawg!!!! RT @80sbaby...  \n",
       "3  !!!!!!!!! RT @C_G_Anderson: @viva_based she lo...  \n",
       "4  !!!!!!!!!!!!! RT @ShenikaRoberts: The shit you...  "
      ]
     },
     "execution_count": 18,
     "metadata": {},
     "output_type": "execute_result"
    }
   ],
   "source": [
    "#Importing the packages\n",
    "import pandas as pd\n",
    "import numpy as np\n",
    "import spacy\n",
    "from sklearn.feature_extraction.text import TfidfVectorizer\n",
    "from sklearn.model_selection import train_test_split\n",
    "from sklearn.tree import DecisionTreeClassifier\n",
    "import nltk\n",
    "import re,string\n",
    "nltk.download('stopwords')\n",
    "from nltk.corpus import stopwords\n",
    "stopword=set(stopwords.words('english'))\n",
    "stemmer = nltk.SnowballStemmer(\"english\")\n",
    "\n",
    "df = pd.read_csv(\"C:\\\\Users\\\\Admin\\\\Downloads\\\\twitter_data.csv\")\n",
    "\n",
    "print(df.shape)\n",
    "\n",
    "df.head(5)"
   ]
  },
  {
   "cell_type": "code",
   "execution_count": 19,
   "id": "766aec82",
   "metadata": {},
   "outputs": [],
   "source": [
    "nlp = spacy.load(\"en_core_web_lg\", disable=[\"tagger\"])"
   ]
  },
  {
   "cell_type": "code",
   "execution_count": 20,
   "id": "b18261ea",
   "metadata": {},
   "outputs": [],
   "source": [
    "df[\"labels\"] = df['class'].map({0: \"Hate Speech\", 1: \"Offensive Speech\", 2: \"No Hate and Offensive Speech\"})\n",
    "df = df[[\"tweet\", \"labels\"]]"
   ]
  },
  {
   "cell_type": "code",
   "execution_count": 21,
   "id": "8595027a",
   "metadata": {},
   "outputs": [],
   "source": [
    " def preprocess(text):\n",
    "        test_list = text.split()\n",
    "        text = \"\"\n",
    "        for word in test_list:\n",
    "            if word.endswith(\"ing\"):\n",
    "                word=word[:-3]\n",
    "            text+=word\n",
    "            text+=\" \"\n",
    "        doc = nlp(text)\n",
    "        filtered_tokens = []\n",
    "        \n",
    "        for token in doc:\n",
    "            if token.is_stop or token.is_punct:\n",
    "                continue\n",
    "            filtered_tokens.append(token.lemma_)\n",
    "            \n",
    "        return \" \".join(filtered_tokens)"
   ]
  },
  {
   "cell_type": "code",
   "execution_count": 22,
   "id": "bb353676",
   "metadata": {},
   "outputs": [
    {
     "name": "stderr",
     "output_type": "stream",
     "text": [
      "C:\\Users\\Admin\\anaconda3\\lib\\site-packages\\spacy\\pipeline\\lemmatizer.py:211: UserWarning: [W108] The rule-based lemmatizer did not find POS annotation for one or more tokens. Check that your pipeline includes components that assign token.pos, typically 'tagger'+'attribute_ruler' or 'morphologizer'.\n",
      "  warnings.warn(Warnings.W108)\n"
     ]
    }
   ],
   "source": [
    "df[\"tweet_new\"] = df.tweet.apply(preprocess)"
   ]
  },
  {
   "cell_type": "code",
   "execution_count": 23,
   "id": "1777f730",
   "metadata": {},
   "outputs": [
    {
     "data": {
      "text/html": [
       "<div>\n",
       "<style scoped>\n",
       "    .dataframe tbody tr th:only-of-type {\n",
       "        vertical-align: middle;\n",
       "    }\n",
       "\n",
       "    .dataframe tbody tr th {\n",
       "        vertical-align: top;\n",
       "    }\n",
       "\n",
       "    .dataframe thead th {\n",
       "        text-align: right;\n",
       "    }\n",
       "</style>\n",
       "<table border=\"1\" class=\"dataframe\">\n",
       "  <thead>\n",
       "    <tr style=\"text-align: right;\">\n",
       "      <th></th>\n",
       "      <th>tweet</th>\n",
       "      <th>labels</th>\n",
       "      <th>tweet_new</th>\n",
       "    </tr>\n",
       "  </thead>\n",
       "  <tbody>\n",
       "    <tr>\n",
       "      <th>0</th>\n",
       "      <td>!!! RT @mayasolovely: As a woman you shouldn't...</td>\n",
       "      <td>No Hate and Offensive Speech</td>\n",
       "      <td>rt @mayasolovely woman complain clean house am...</td>\n",
       "    </tr>\n",
       "    <tr>\n",
       "      <th>1</th>\n",
       "      <td>!!!!! RT @mleew17: boy dats cold...tyga dwn ba...</td>\n",
       "      <td>Offensive Speech</td>\n",
       "      <td>rt @mleew17 boy dats cold tyga dwn bad cuffin ...</td>\n",
       "    </tr>\n",
       "    <tr>\n",
       "      <th>2</th>\n",
       "      <td>!!!!!!! RT @UrKindOfBrand Dawg!!!! RT @80sbaby...</td>\n",
       "      <td>Offensive Speech</td>\n",
       "      <td>rt @urkindofbrand dawg rt @80sbaby4life fuck b...</td>\n",
       "    </tr>\n",
       "    <tr>\n",
       "      <th>3</th>\n",
       "      <td>!!!!!!!!! RT @C_G_Anderson: @viva_based she lo...</td>\n",
       "      <td>Offensive Speech</td>\n",
       "      <td>rt @c_g_anderson @viva_based look like tranny</td>\n",
       "    </tr>\n",
       "    <tr>\n",
       "      <th>4</th>\n",
       "      <td>!!!!!!!!!!!!! RT @ShenikaRoberts: The shit you...</td>\n",
       "      <td>Offensive Speech</td>\n",
       "      <td>rt @shenikaroberts shit hear true faker bitch ...</td>\n",
       "    </tr>\n",
       "  </tbody>\n",
       "</table>\n",
       "</div>"
      ],
      "text/plain": [
       "                                               tweet  \\\n",
       "0  !!! RT @mayasolovely: As a woman you shouldn't...   \n",
       "1  !!!!! RT @mleew17: boy dats cold...tyga dwn ba...   \n",
       "2  !!!!!!! RT @UrKindOfBrand Dawg!!!! RT @80sbaby...   \n",
       "3  !!!!!!!!! RT @C_G_Anderson: @viva_based she lo...   \n",
       "4  !!!!!!!!!!!!! RT @ShenikaRoberts: The shit you...   \n",
       "\n",
       "                         labels  \\\n",
       "0  No Hate and Offensive Speech   \n",
       "1              Offensive Speech   \n",
       "2              Offensive Speech   \n",
       "3              Offensive Speech   \n",
       "4              Offensive Speech   \n",
       "\n",
       "                                           tweet_new  \n",
       "0  rt @mayasolovely woman complain clean house am...  \n",
       "1  rt @mleew17 boy dats cold tyga dwn bad cuffin ...  \n",
       "2  rt @urkindofbrand dawg rt @80sbaby4life fuck b...  \n",
       "3      rt @c_g_anderson @viva_based look like tranny  \n",
       "4  rt @shenikaroberts shit hear true faker bitch ...  "
      ]
     },
     "execution_count": 23,
     "metadata": {},
     "output_type": "execute_result"
    }
   ],
   "source": [
    "df.head()"
   ]
  },
  {
   "cell_type": "code",
   "execution_count": 24,
   "id": "316b6514",
   "metadata": {},
   "outputs": [],
   "source": [
    "def clean(text):\n",
    "    text = str (text). lower()\n",
    "    text = re. sub('[.?]', '', text)\n",
    "    text = re. sub('https?://\\S+|www.\\S+', '', text)\n",
    "    text = re. sub('<.?>+', '', text)\n",
    "    text = re. sub('[%s]' % re. escape(string. punctuation), '', text)\n",
    "    text = re. sub('\\n', '', text)\n",
    "    text = re. sub('\\w\\d\\w', '', text)\n",
    "    text = [word for word in text.split(' ') if word not in stopword]\n",
    "    text=\" \". join(text)\n",
    "    text = [stemmer. stem(word) for word in text. split(' ')]\n",
    "    text=\" \". join(text)\n",
    "    return text"
   ]
  },
  {
   "cell_type": "code",
   "execution_count": 25,
   "id": "afea43fe",
   "metadata": {},
   "outputs": [],
   "source": [
    "df[\"tweet_new\"] = df.tweet_new.apply(clean)"
   ]
  },
  {
   "cell_type": "code",
   "execution_count": 26,
   "id": "dc1582be",
   "metadata": {},
   "outputs": [],
   "source": [
    "# Load pre-trained GloVe word vectors\n",
    "glove_vectors = {}  # Create a dictionary to store GloVe word vectors\n",
    "\n",
    "# Load GloVe word vectors from the downloaded file\n",
    "glove_file = \"C:\\\\Users\\\\Admin\\\\glove.twitter.27B.200d.txt\" \n",
    "with open(glove_file, \"r\", encoding=\"utf-8\") as f:\n",
    "    for line in f:\n",
    "        values = line.split()\n",
    "        word = values[0]\n",
    "        vector = np.array(values[1:], dtype=\"float32\")\n",
    "        glove_vectors[word] = vector"
   ]
  },
  {
   "cell_type": "code",
   "execution_count": 10,
   "id": "48d489fb",
   "metadata": {},
   "outputs": [],
   "source": [
    "# Define a function to convert a sentence to an average GloVe word vector using spaCy and GloVe\n",
    "def sentence_to_vector(sentence, model, word_vectors):\n",
    "    doc = model(sentence)\n",
    "    vector = np.zeros(word_vectors[\"the\"].shape)  # Initialize with a vector of zeros\n",
    "    num_words = 0\n",
    "    for word in doc:\n",
    "        if word.text in word_vectors:\n",
    "            vector += word_vectors[word.text]\n",
    "            num_words += 1\n",
    "    if num_words > 0:\n",
    "        vector /= num_words\n",
    "    return vector"
   ]
  },
  {
   "cell_type": "code",
   "execution_count": 27,
   "id": "39261d8d",
   "metadata": {},
   "outputs": [],
   "source": [
    "x = np. array(df[\"tweet_new\"])\n",
    "y = np. array(df[\"labels\"])\n",
    "X_train, X_test, y_train, y_test = train_test_split(x, y, test_size=0.33, random_state=42)"
   ]
  },
  {
   "cell_type": "code",
   "execution_count": 28,
   "id": "9eddec0d",
   "metadata": {},
   "outputs": [
    {
     "name": "stderr",
     "output_type": "stream",
     "text": [
      "C:\\Users\\Admin\\anaconda3\\lib\\site-packages\\spacy\\pipeline\\lemmatizer.py:211: UserWarning: [W108] The rule-based lemmatizer did not find POS annotation for one or more tokens. Check that your pipeline includes components that assign token.pos, typically 'tagger'+'attribute_ruler' or 'morphologizer'.\n",
      "  warnings.warn(Warnings.W108)\n"
     ]
    }
   ],
   "source": [
    "# Convert training data to average GloVe word vectors\n",
    "X_train_glove = [sentence_to_vector(sentence, nlp, glove_vectors) for sentence in X_train]"
   ]
  },
  {
   "cell_type": "code",
   "execution_count": 29,
   "id": "18299be2",
   "metadata": {},
   "outputs": [],
   "source": [
    "from sklearn.preprocessing import LabelEncoder\n",
    "# Encode labels\n",
    "label_encoder = LabelEncoder()\n",
    "y_train_encoded = label_encoder.fit_transform(y_train)\n",
    "\n",
    "# Split data into training and testing\n",
    "X_train_glv, X_test_glv, y_train_enc, y_test_enc = train_test_split(X_train_glove, y_train_encoded, test_size=0.2, random_state=42)"
   ]
  },
  {
   "cell_type": "code",
   "execution_count": 30,
   "id": "13b50e8d",
   "metadata": {},
   "outputs": [
    {
     "name": "stdout",
     "output_type": "stream",
     "text": [
      "0.8882866606443842\n"
     ]
    },
    {
     "data": {
      "text/plain": [
       "'# Preprocess and clean the new input\\nnew_string = \"string\"\\nnew_string = preprocess(new_string)\\n\\n# Convert the new input to an average GloVe word vector\\nnew_string_vector = sentence_to_vector(new_string, nlp, glove_vectors).reshape(1, -1)\\n\\n# Predict the label\\npredicted_label_encoded = clf.predict(new_string_vector)\\npredicted_label = label_encoder.inverse_transform(predicted_label_encoded)\\n\\nprint(\"Predicted Label:\", predicted_label)'"
      ]
     },
     "execution_count": 30,
     "metadata": {},
     "output_type": "execute_result"
    }
   ],
   "source": [
    "from sklearn.svm import SVC\n",
    "\n",
    "# Define and train an SVM classifier\n",
    "clf = SVC(probability=True)\n",
    "clf.fit(X_train_glv, y_train_enc)\n",
    "\n",
    "#Testing the model\n",
    "y_pred = clf.predict (X_test_glv)\n",
    "#Accuracy Score of our model\n",
    "from sklearn.metrics import accuracy_score\n",
    "print (accuracy_score (y_test_enc,y_pred))\n",
    "\n",
    "'''# Preprocess and clean the new input\n",
    "new_string = \"string\"\n",
    "new_string = preprocess(new_string)\n",
    "\n",
    "# Convert the new input to an average GloVe word vector\n",
    "new_string_vector = sentence_to_vector(new_string, nlp, glove_vectors).reshape(1, -1)\n",
    "\n",
    "# Predict the label\n",
    "predicted_label_encoded = clf.predict(new_string_vector)\n",
    "predicted_label = label_encoder.inverse_transform(predicted_label_encoded)\n",
    "\n",
    "print(\"Predicted Label:\", predicted_label)'''"
   ]
  },
  {
   "cell_type": "code",
   "execution_count": 31,
   "id": "300f394a",
   "metadata": {},
   "outputs": [
    {
     "name": "stdout",
     "output_type": "stream",
     "text": [
      "SVM Accuracy: 0.8882866606443842\n",
      "SVM F1 Score: 0.8654033854819464\n",
      "SVM Precision: 0.873221839239011\n",
      "SVM Recall: 0.8882866606443842\n",
      "SVM AUC Scores per class: 0.9281156238521003\n",
      "SVM Confusion Matrix:\n",
      "[[   8   32  154]\n",
      " [   0  461   92]\n",
      " [   5   88 2481]]\n"
     ]
    },
    {
     "data": {
      "image/png": "[encoded data removed]",
      "text/plain": [
       "<Figure size 576x432 with 1 Axes>"
      ]
     },
     "metadata": {
      "needs_background": "light"
     },
     "output_type": "display_data"
    }
   ],
   "source": [
    "from sklearn.metrics import accuracy_score, f1_score, precision_score, recall_score, roc_auc_score, confusion_matrix\n",
    "\n",
    "# Calculate accuracy\n",
    "svm_accuracy = accuracy_score(y_test_enc, clf.predict(X_test_glv))\n",
    "print(\"SVM Accuracy:\", svm_accuracy)\n",
    "\n",
    "# Calculate F1 score\n",
    "svm_f1_score = f1_score(y_test_enc, clf.predict(X_test_glv), average='weighted')\n",
    "print(\"SVM F1 Score:\", svm_f1_score)\n",
    "\n",
    "# Calculate precision\n",
    "svm_precision = precision_score(y_test_enc, clf.predict(X_test_glv), average='weighted')\n",
    "print(\"SVM Precision:\", svm_precision)\n",
    "\n",
    "# Calculate recall\n",
    "svm_recall = recall_score(y_test_enc, clf.predict(X_test_glv), average='weighted')\n",
    "print(\"SVM Recall:\", svm_recall)\n",
    "\n",
    "# Calculate AUC score\n",
    "from sklearn.metrics import roc_auc_score, auc\n",
    "from sklearn.preprocessing import label_binarize\n",
    "\n",
    "# Binarize the test labels\n",
    "y_test_binarized = label_binarize(y_test_enc, classes=range(len(label_encoder.classes_)))\n",
    "# Calculate ROC AUC score for each class separately\n",
    "y_score = clf.predict_proba(X_test_glv)\n",
    "svm_auc_scores = roc_auc_score(y_test_binarized, y_score, average='weighted', multi_class='ovr')\n",
    "print(\"SVM AUC Scores per class:\", svm_auc_scores)\n",
    "\n",
    "# Calculate confusion matrix\n",
    "svm_conf_matrix = confusion_matrix(y_test_enc, clf.predict(X_test_glv))\n",
    "print(\"SVM Confusion Matrix:\")\n",
    "print(svm_conf_matrix)\n",
    "\n",
    "from sklearn.metrics import roc_curve\n",
    "\n",
    "# Compute ROC curve and ROC area for each class\n",
    "fpr = dict()\n",
    "tpr = dict()\n",
    "roc_auc = dict()\n",
    "for i in range(len(label_encoder.classes_)):\n",
    "    fpr[i], tpr[i], _ = roc_curve(y_test_binarized[:, i], y_score[:, i])\n",
    "    roc_auc[i] = auc(fpr[i], tpr[i])\n",
    "\n",
    "# Plot ROC curve for each class\n",
    "import matplotlib.pyplot as plt\n",
    "\n",
    "plt.figure(figsize=(8, 6))\n",
    "for i in range(len(label_encoder.classes_)):\n",
    "    plt.plot(fpr[i], tpr[i], label='ROC curve (class {0}) (AUC = {1:0.2f})'.format(i, roc_auc[i]))\n",
    "\n",
    "plt.plot([0, 1], [0, 1], 'k--')  # Plot diagonal line\n",
    "plt.xlim([0.0, 1.0])\n",
    "plt.ylim([0.0, 1.05])\n",
    "plt.xlabel('False Positive Rate')\n",
    "plt.ylabel('True Positive Rate')\n",
    "plt.title('Receiver Operating Characteristic (ROC) Curve')\n",
    "plt.legend(loc=\"lower right\")\n",
    "plt.show()"
   ]
  },
  {
   "cell_type": "code",
   "execution_count": 32,
   "id": "744aa159",
   "metadata": {},
   "outputs": [
    {
     "name": "stdout",
     "output_type": "stream",
     "text": [
      "0.8846732911773563\n"
     ]
    },
    {
     "name": "stderr",
     "output_type": "stream",
     "text": [
      "C:\\Users\\Admin\\anaconda3\\lib\\site-packages\\sklearn\\linear_model\\_logistic.py:763: ConvergenceWarning: lbfgs failed to converge (status=1):\n",
      "STOP: TOTAL NO. of ITERATIONS REACHED LIMIT.\n",
      "\n",
      "Increase the number of iterations (max_iter) or scale the data as shown in:\n",
      "    https://scikit-learn.org/stable/modules/preprocessing.html\n",
      "Please also refer to the documentation for alternative solver options:\n",
      "    https://scikit-learn.org/stable/modules/linear_model.html#logistic-regression\n",
      "  n_iter_i = _check_optimize_result(\n"
     ]
    },
    {
     "data": {
      "text/plain": [
       "'# Preprocess and clean the new input\\nnew_string = \"string\"\\nnew_string = preprocess(new_string)\\n\\n# Convert the new input to an average GloVe word vector\\nnew_string_vector = sentence_to_vector(new_string, nlp, glove_vectors).reshape(1, -1)\\n\\n# Predict the label\\npredicted_label_encoded = model1.predict(new_string_vector)\\npredicted_label = label_encoder.inverse_transform(predicted_label_encoded)\\n\\nprint(\"Predicted Label:\", predicted_label)'"
      ]
     },
     "execution_count": 32,
     "metadata": {},
     "output_type": "execute_result"
    }
   ],
   "source": [
    "from sklearn.linear_model import LogisticRegression\n",
    "\n",
    "model1 = LogisticRegression()\n",
    "model1.fit(X_train_glv,y_train_enc)\n",
    "y_pred = model1.predict(X_test_glv)\n",
    "\n",
    "#Accuracy Score of our model\n",
    "from sklearn.metrics import accuracy_score\n",
    "print (accuracy_score (y_test_enc,y_pred))\n",
    "\n",
    "'''# Preprocess and clean the new input\n",
    "new_string = \"string\"\n",
    "new_string = preprocess(new_string)\n",
    "\n",
    "# Convert the new input to an average GloVe word vector\n",
    "new_string_vector = sentence_to_vector(new_string, nlp, glove_vectors).reshape(1, -1)\n",
    "\n",
    "# Predict the label\n",
    "predicted_label_encoded = model1.predict(new_string_vector)\n",
    "predicted_label = label_encoder.inverse_transform(predicted_label_encoded)\n",
    "\n",
    "print(\"Predicted Label:\", predicted_label)'''"
   ]
  },
  {
   "cell_type": "code",
   "execution_count": 33,
   "id": "e76fa97c",
   "metadata": {},
   "outputs": [
    {
     "name": "stdout",
     "output_type": "stream",
     "text": [
      "lr Accuracy: 0.8846732911773563\n",
      "lr F1 Score: 0.8711134797384048\n",
      "lr Precision: 0.8682227880564081\n",
      "lr Recall: 0.8846732911773563\n",
      "lr AUC Scores per class: 0.9281156238521003\n",
      "lr Confusion Matrix:\n",
      "[[  30   28  136]\n",
      " [   2  453   98]\n",
      " [  30   89 2455]]\n"
     ]
    },
    {
     "data": {
      "image/png": "[encoded data removed]",
      "text/plain": [
       "<Figure size 576x432 with 1 Axes>"
      ]
     },
     "metadata": {
      "needs_background": "light"
     },
     "output_type": "display_data"
    }
   ],
   "source": [
    "from sklearn.metrics import accuracy_score, f1_score, precision_score, recall_score, roc_auc_score, confusion_matrix\n",
    "\n",
    "# Calculate accuracy\n",
    "lr_accuracy = accuracy_score(y_test_enc, y_pred)\n",
    "print(\"lr Accuracy:\", lr_accuracy)\n",
    "\n",
    "# Calculate F1 score\n",
    "lr_f1_score = f1_score(y_test_enc, y_pred, average='weighted')\n",
    "print(\"lr F1 Score:\", lr_f1_score)\n",
    "\n",
    "# Calculate precision\n",
    "lr_precision = precision_score(y_test_enc, y_pred, average='weighted')\n",
    "print(\"lr Precision:\", lr_precision)\n",
    "\n",
    "# Calculate recall\n",
    "lr_recall = recall_score(y_test_enc, y_pred, average='weighted')\n",
    "print(\"lr Recall:\", lr_recall)\n",
    "\n",
    "# Calculate AUC score\n",
    "from sklearn.metrics import roc_auc_score, auc\n",
    "from sklearn.preprocessing import label_binarize\n",
    "\n",
    "# Binarize the test labels\n",
    "y_test_binarized = label_binarize(y_test_enc, classes=range(len(label_encoder.classes_)))\n",
    "# Calculate ROC AUC score for each class separately\n",
    "y_score = clf.predict_proba(X_test_glv)\n",
    "lr_auc_scores = roc_auc_score(y_test_binarized, y_score, average='weighted', multi_class='ovr')\n",
    "print(\"lr AUC Scores per class:\", lr_auc_scores)\n",
    "\n",
    "# Calculate confusion matrix\n",
    "lr_conf_matrix = confusion_matrix(y_test_enc, y_pred)\n",
    "print(\"lr Confusion Matrix:\")\n",
    "print(lr_conf_matrix)\n",
    "\n",
    "from sklearn.metrics import roc_curve\n",
    "\n",
    "# Compute ROC curve and ROC area for each class\n",
    "fpr = dict()\n",
    "tpr = dict()\n",
    "roc_auc = dict()\n",
    "for i in range(len(label_encoder.classes_)):\n",
    "    fpr[i], tpr[i], _ = roc_curve(y_test_binarized[:, i], y_score[:, i])\n",
    "    roc_auc[i] = auc(fpr[i], tpr[i])\n",
    "\n",
    "# Plot ROC curve for each class\n",
    "import matplotlib.pyplot as plt\n",
    "\n",
    "plt.figure(figsize=(8, 6))\n",
    "for i in range(len(label_encoder.classes_)):\n",
    "    plt.plot(fpr[i], tpr[i], label='ROC curve (class {0}) (AUC = {1:0.2f})'.format(i, roc_auc[i]))\n",
    "\n",
    "plt.plot([0, 1], [0, 1], 'k--')  # Plot diagonal line\n",
    "plt.xlim([0.0, 1.0])\n",
    "plt.ylim([0.0, 1.05])\n",
    "plt.xlabel('False Positive Rate')\n",
    "plt.ylabel('True Positive Rate')\n",
    "plt.title('Receiver Operating Characteristic (ROC) Curve')\n",
    "plt.legend(loc=\"lower right\")\n",
    "plt.show()"
   ]
  },
  {
   "cell_type": "code",
   "execution_count": 34,
   "id": "3df571a5",
   "metadata": {},
   "outputs": [
    {
     "name": "stdout",
     "output_type": "stream",
     "text": [
      "0.8717253839205059\n"
     ]
    },
    {
     "data": {
      "text/plain": [
       "'# Preprocess and clean the new input\\nnew_string = \"string\"\\nnew_string = preprocess(new_string)\\n\\n# Convert the new input to an average GloVe word vector\\nnew_string_vector = sentence_to_vector(new_string, nlp, glove_vectors).reshape(1, -1)\\n\\n# Predict the label\\npredicted_label_encoded = clf.predict(new_string_vector)\\npredicted_label = label_encoder.inverse_transform(predicted_label_encoded)\\n\\nprint(\"Predicted Label:\", predicted_label)'"
      ]
     },
     "execution_count": 34,
     "metadata": {},
     "output_type": "execute_result"
    }
   ],
   "source": [
    "from sklearn.ensemble import RandomForestClassifier\n",
    "\n",
    "# Define and train an SVM classifier\n",
    "clf = RandomForestClassifier()\n",
    "clf.fit(X_train_glv, y_train_enc)\n",
    "\n",
    "#Testing the model\n",
    "y_pred = clf.predict (X_test_glv)\n",
    "#Accuracy Score of our model\n",
    "from sklearn.metrics import accuracy_score\n",
    "print (accuracy_score (y_test_enc,y_pred))\n",
    "\n",
    "'''# Preprocess and clean the new input\n",
    "new_string = \"string\"\n",
    "new_string = preprocess(new_string)\n",
    "\n",
    "# Convert the new input to an average GloVe word vector\n",
    "new_string_vector = sentence_to_vector(new_string, nlp, glove_vectors).reshape(1, -1)\n",
    "\n",
    "# Predict the label\n",
    "predicted_label_encoded = clf.predict(new_string_vector)\n",
    "predicted_label = label_encoder.inverse_transform(predicted_label_encoded)\n",
    "\n",
    "print(\"Predicted Label:\", predicted_label)'''"
   ]
  },
  {
   "cell_type": "code",
   "execution_count": 35,
   "id": "7149fef2",
   "metadata": {},
   "outputs": [
    {
     "name": "stdout",
     "output_type": "stream",
     "text": [
      "Random Forest Accuracy: 0.8717253839205059\n",
      "Random Forest F1 Score: 0.847471135893791\n",
      "Random Forest Precision: 0.8483260724932096\n",
      "Random Forest Recall: 0.8717253839205059\n",
      "Random Forest AUC Scores per class: 0.8975614077598831\n",
      "Random Forest Confusion Matrix:\n",
      "[[   9   27  158]\n",
      " [   0  385  168]\n",
      " [  10   63 2501]]\n"
     ]
    },
    {
     "data": {
      "image/png": "[encoded data removed]",
      "text/plain": [
       "<Figure size 576x432 with 1 Axes>"
      ]
     },
     "metadata": {
      "needs_background": "light"
     },
     "output_type": "display_data"
    }
   ],
   "source": [
    "from sklearn.metrics import accuracy_score, f1_score, precision_score, recall_score, roc_auc_score, confusion_matrix\n",
    "\n",
    "# Calculate accuracy\n",
    "rf_accuracy = accuracy_score(y_test_enc, clf.predict(X_test_glv))\n",
    "print(\"Random Forest Accuracy:\", rf_accuracy)\n",
    "\n",
    "# Calculate F1 score\n",
    "rf_f1_score = f1_score(y_test_enc, clf.predict(X_test_glv), average='weighted')\n",
    "print(\"Random Forest F1 Score:\", rf_f1_score)\n",
    "\n",
    "# Calculate precision\n",
    "rf_precision = precision_score(y_test_enc, clf.predict(X_test_glv), average='weighted')\n",
    "print(\"Random Forest Precision:\", rf_precision)\n",
    "\n",
    "# Calculate recall\n",
    "rf_recall = recall_score(y_test_enc, clf.predict(X_test_glv), average='weighted')\n",
    "print(\"Random Forest Recall:\", rf_recall)\n",
    "\n",
    "# Calculate AUC score\n",
    "from sklearn.metrics import roc_auc_score, auc\n",
    "from sklearn.preprocessing import label_binarize\n",
    "\n",
    "# Binarize the test labels\n",
    "y_test_binarized = label_binarize(y_test_enc, classes=range(len(label_encoder.classes_)))\n",
    "\n",
    "# Calculate ROC AUC score for each class separately\n",
    "y_score = clf.predict_proba(X_test_glv)\n",
    "rf_auc_scores = roc_auc_score(y_test_binarized, y_score, average='weighted', multi_class='ovr')\n",
    "print(\"Random Forest AUC Scores per class:\", rf_auc_scores)\n",
    "\n",
    "# Calculate confusion matrix\n",
    "rf_conf_matrix = confusion_matrix(y_test_enc, clf.predict(X_test_glv))\n",
    "print(\"Random Forest Confusion Matrix:\")\n",
    "print(rf_conf_matrix)\n",
    "\n",
    "from sklearn.metrics import roc_curve\n",
    "\n",
    "# Compute ROC curve and ROC area for each class\n",
    "fpr = dict()\n",
    "tpr = dict()\n",
    "roc_auc = dict()\n",
    "for i in range(len(label_encoder.classes_)):\n",
    "    fpr[i], tpr[i], _ = roc_curve(y_test_binarized[:, i], y_score[:, i])\n",
    "    roc_auc[i] = auc(fpr[i], tpr[i])\n",
    "\n",
    "# Plot ROC curve for each class\n",
    "import matplotlib.pyplot as plt\n",
    "\n",
    "plt.figure(figsize=(8, 6))\n",
    "for i in range(len(label_encoder.classes_)):\n",
    "    plt.plot(fpr[i], tpr[i], label='ROC curve (class {0}) (AUC = {1:0.2f})'.format(i, roc_auc[i]))\n",
    "\n",
    "plt.plot([0, 1], [0, 1], 'k--')  # Plot diagonal line\n",
    "plt.xlim([0.0, 1.0])\n",
    "plt.ylim([0.0, 1.05])\n",
    "plt.xlabel('False Positive Rate')\n",
    "plt.ylabel('True Positive Rate')\n",
    "plt.title('Receiver Operating Characteristic (ROC) Curve')\n",
    "plt.legend(loc=\"lower right\")\n",
    "plt.show()"
   ]
  },
  {
   "cell_type": "code",
   "execution_count": 36,
   "id": "df923ac9",
   "metadata": {},
   "outputs": [
    {
     "name": "stdout",
     "output_type": "stream",
     "text": [
      "Ensemble Accuracy Score: 0.8593797049081602\n"
     ]
    }
   ],
   "source": [
    "from sklearn.ensemble import VotingClassifier\n",
    "\n",
    "# Initialize individual models\n",
    "dt_model = DecisionTreeClassifier()\n",
    "rf_model = RandomForestClassifier()\n",
    "svm_model = SVC(kernel='linear', probability=True)  # Enable probability estimation for SVM\n",
    "\n",
    "# Define the ensemble of models\n",
    "ensemble_model = VotingClassifier(estimators=[\n",
    "    ('decision_tree', dt_model),\n",
    "    ('random_forest', rf_model),\n",
    "    ('svm', svm_model)\n",
    "], voting='soft')  # Use soft voting for probability averaging\n",
    "\n",
    "# Training the ensemble model\n",
    "ensemble_model.fit(X_train_glv, y_train_enc)\n",
    "\n",
    "# Testing the ensemble model\n",
    "y_pred_ensemble = ensemble_model.predict(X_test_glv)\n",
    "\n",
    "# Accuracy Score of ensemble model\n",
    "print(\"Ensemble Accuracy Score:\", accuracy_score(y_test_enc, y_pred_ensemble))"
   ]
  },
  {
   "cell_type": "code",
   "execution_count": 37,
   "id": "0108c227",
   "metadata": {},
   "outputs": [
    {
     "name": "stdout",
     "output_type": "stream",
     "text": [
      "Ensemble Model Accuracy: 0.8593797049081602\n",
      "Ensemble Model F1 Score: 0.8442128275460115\n",
      "Ensemble Model Precision: 0.837662428266875\n",
      "Ensemble Model Recall: 0.8593797049081602\n",
      "Ensemble Model AUC Scores per class: 0.8965239777208542\n",
      "Ensemble Model Confusion Matrix:\n",
      "[[  25   29  140]\n",
      " [  11  383  159]\n",
      " [  32   96 2446]]\n"
     ]
    },
    {
     "data": {
      "image/png": "[encoded data removed]",
      "text/plain": [
       "<Figure size 576x432 with 1 Axes>"
      ]
     },
     "metadata": {
      "needs_background": "light"
     },
     "output_type": "display_data"
    }
   ],
   "source": [
    "from sklearn.metrics import accuracy_score, f1_score, precision_score, recall_score, roc_auc_score, confusion_matrix\n",
    "\n",
    "# Calculate accuracy\n",
    "en_accuracy = accuracy_score(y_test_enc, ensemble_model.predict(X_test_glv))\n",
    "print(\"Ensemble Model Accuracy:\", en_accuracy)\n",
    "\n",
    "# Calculate F1 score\n",
    "en_f1_score = f1_score(y_test_enc, ensemble_model.predict(X_test_glv), average='weighted')\n",
    "print(\"Ensemble Model F1 Score:\", en_f1_score)\n",
    "\n",
    "# Calculate precision\n",
    "en_precision = precision_score(y_test_enc, ensemble_model.predict(X_test_glv), average='weighted')\n",
    "print(\"Ensemble Model Precision:\", en_precision)\n",
    "\n",
    "# Calculate recall\n",
    "en_recall = recall_score(y_test_enc, ensemble_model.predict(X_test_glv), average='weighted')\n",
    "print(\"Ensemble Model Recall:\", en_recall)\n",
    "\n",
    "# Calculate AUC score\n",
    "from sklearn.metrics import roc_auc_score, auc\n",
    "from sklearn.preprocessing import label_binarize\n",
    "\n",
    "# Binarize the test labels\n",
    "y_test_binarized = label_binarize(y_test_enc, classes=range(len(label_encoder.classes_)))\n",
    "\n",
    "# Calculate ROC AUC score for each class separately\n",
    "y_score = ensemble_model.predict_proba(X_test_glv)\n",
    "en_auc_scores = roc_auc_score(y_test_binarized, y_score, average='weighted', multi_class='ovr')\n",
    "print(\"Ensemble Model AUC Scores per class:\", en_auc_scores)\n",
    "\n",
    "# Calculate confusion matrix\n",
    "en_conf_matrix = confusion_matrix(y_test_enc, ensemble_model.predict(X_test_glv))\n",
    "print(\"Ensemble Model Confusion Matrix:\")\n",
    "print(en_conf_matrix)\n",
    "\n",
    "from sklearn.metrics import roc_curve\n",
    "\n",
    "# Compute ROC curve and ROC area for each class\n",
    "fpr = dict()\n",
    "tpr = dict()\n",
    "roc_auc = dict()\n",
    "for i in range(len(label_encoder.classes_)):\n",
    "    fpr[i], tpr[i], _ = roc_curve(y_test_binarized[:, i], y_score[:, i])\n",
    "    roc_auc[i] = auc(fpr[i], tpr[i])\n",
    "\n",
    "# Plot ROC curve for each class\n",
    "import matplotlib.pyplot as plt\n",
    "\n",
    "plt.figure(figsize=(8, 6))\n",
    "for i in range(len(label_encoder.classes_)):\n",
    "    plt.plot(fpr[i], tpr[i], label='ROC curve (class {0}) (AUC = {1:0.2f})'.format(i, roc_auc[i]))\n",
    "\n",
    "plt.plot([0, 1], [0, 1], 'k--')  # Plot diagonal line\n",
    "plt.xlim([0.0, 1.0])\n",
    "plt.ylim([0.0, 1.05])\n",
    "plt.xlabel('False Positive Rate')\n",
    "plt.ylabel('True Positive Rate')\n",
    "plt.title('Receiver Operating Characteristic (ROC) Curve')\n",
    "plt.legend(loc=\"lower right\")\n",
    "plt.show()"
   ]
  },
  {
   "cell_type": "code",
   "execution_count": 24,
   "id": "e55e786f",
   "metadata": {},
   "outputs": [
    {
     "name": "stdout",
     "output_type": "stream",
     "text": [
      "Enter the text you want to classify: hello\n",
      "Predicted label: [2]\n"
     ]
    }
   ],
   "source": [
    "# Get input from the user\n",
    "user_input = input(\"Enter the text you want to classify: \")\n",
    "\n",
    "# Preprocess the user input\n",
    "user_input_processed = preprocess(user_input)\n",
    "\n",
    "# Transform the preprocessed input using the TF-IDF vectorizer\n",
    "user_input_vectorized = sentence_to_vector(user_input_processed, nlp, glove_vectors).reshape(1, -1)\n",
    "\n",
    "# Make prediction using the ensemble model\n",
    "prediction = ensemble_model.predict(user_input_vectorized)\n",
    "\n",
    "# Print the predicted label\n",
    "print(\"Predicted label:\", prediction)"
   ]
  },
  {
   "cell_type": "code",
   "execution_count": null,
   "id": "dde155a2",
   "metadata": {},
   "outputs": [],
   "source": []
  }
 ],
 "metadata": {
  "kernelspec": {
   "display_name": "Python 3 (ipykernel)",
   "language": "python",
   "name": "python3"
  },
  "language_info": {
   "codemirror_mode": {
    "name": "ipython",
    "version": 3
   },
   "file_extension": ".py",
   "mimetype": "text/x-python",
   "name": "python",
   "nbconvert_exporter": "python",
   "pygments_lexer": "ipython3",
   "version": "3.9.7"
  }
 },
 "nbformat": 4,
 "nbformat_minor": 5
}
